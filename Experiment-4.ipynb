{
  "nbformat": 4,
  "nbformat_minor": 0,
  "metadata": {
    "colab": {
      "provenance": [],
      "authorship_tag": "ABX9TyMhXqB8wynWNJWhvD8k3ypS",
      "include_colab_link": true
    },
    "kernelspec": {
      "name": "python3",
      "display_name": "Python 3"
    },
    "language_info": {
      "name": "python"
    }
  },
  "cells": [
    {
      "cell_type": "markdown",
      "metadata": {
        "id": "view-in-github",
        "colab_type": "text"
      },
      "source": [
        "<a href=\"https://colab.research.google.com/github/reetvarshney/AIML_Semester3/blob/main/Experiment-4.ipynb\" target=\"_parent\"><img src=\"https://colab.research.google.com/assets/colab-badge.svg\" alt=\"Open In Colab\"/></a>"
      ]
    },
    {
      "cell_type": "code",
      "execution_count": 3,
      "metadata": {
        "colab": {
          "base_uri": "https://localhost:8080/"
        },
        "id": "jZj3byp6pX95",
        "outputId": "96a6f40a-4d93-473f-c30c-4dbd13725bd7"
      },
      "outputs": [
        {
          "output_type": "stream",
          "name": "stdout",
          "text": [
            "Number of rows: 50985\n",
            "Number of columns: 10\n",
            "\n",
            "First five rows of the dataset:\n",
            "   Year Industry_aggregation_NZSIOC Industry_code_NZSIOC Industry_name_NZSIOC  \\\n",
            "0  2023                     Level 1                99999       All industries   \n",
            "1  2023                     Level 1                99999       All industries   \n",
            "2  2023                     Level 1                99999       All industries   \n",
            "3  2023                     Level 1                99999       All industries   \n",
            "4  2023                     Level 1                99999       All industries   \n",
            "\n",
            "                Units Variable_code  \\\n",
            "0  Dollars (millions)           H01   \n",
            "1  Dollars (millions)           H04   \n",
            "2  Dollars (millions)           H05   \n",
            "3  Dollars (millions)           H07   \n",
            "4  Dollars (millions)           H08   \n",
            "\n",
            "                                     Variable_name      Variable_category  \\\n",
            "0                                     Total income  Financial performance   \n",
            "1  Sales, government funding, grants and subsidies  Financial performance   \n",
            "2                Interest, dividends and donations  Financial performance   \n",
            "3                             Non-operating income  Financial performance   \n",
            "4                                Total expenditure  Financial performance   \n",
            "\n",
            "    Value                             Industry_code_ANZSIC06  \n",
            "0  930995  ANZSIC06 divisions A-S (excluding classes K633...  \n",
            "1  821630  ANZSIC06 divisions A-S (excluding classes K633...  \n",
            "2   84354  ANZSIC06 divisions A-S (excluding classes K633...  \n",
            "3   25010  ANZSIC06 divisions A-S (excluding classes K633...  \n",
            "4  832964  ANZSIC06 divisions A-S (excluding classes K633...  \n",
            "\n",
            "Size of the dataset: 509850\n",
            "Number of missing values in each column:\n",
            "Year                           0\n",
            "Industry_aggregation_NZSIOC    0\n",
            "Industry_code_NZSIOC           0\n",
            "Industry_name_NZSIOC           0\n",
            "Units                          0\n",
            "Variable_code                  0\n",
            "Variable_name                  0\n",
            "Variable_category              0\n",
            "Value                          0\n",
            "Industry_code_ANZSIC06         0\n",
            "dtype: int64\n",
            "\n",
            "Sum of numerical columns:\n",
            "Year    102887730\n",
            "dtype: int64\n",
            "Average of numerical columns:\n",
            "Year    2018.0\n",
            "dtype: float64\n",
            "Minimum values of numerical columns:\n",
            "Year    2013\n",
            "dtype: int64\n",
            "\n",
            "Maximum values of numerical columns:\n",
            "Year    2023\n",
            "dtype: int64\n"
          ]
        }
      ],
      "source": [
        "'''\n",
        "EXPERIMENT 4\n",
        "\n",
        "Write a python program to import and export data using Pandas and show the\n",
        "details of the dataset like number of rows, columns, first five rows, size,\n",
        "number of missing values, sum, average, min and max values from the\n",
        "numerical columns.\n",
        "'''\n",
        "\n",
        "import pandas as pd\n",
        "data = pd.read_csv(\"data.csv\")\n",
        "\n",
        "print(\"Number of rows:\", data.shape[0])\n",
        "print(\"Number of columns:\", data.shape[1])\n",
        "print(\"\\nFirst five rows of the dataset:\")\n",
        "print(data.head())\n",
        "print(\"\\nSize of the dataset:\", data.size)\n",
        "\n",
        "print(\"Number of missing values in each column:\")\n",
        "print(data.isnull().sum())\n",
        "\n",
        "print(\"\\nSum of numerical columns:\")\n",
        "print(data.sum(numeric_only=True))\n",
        "\n",
        "print(\"Average of numerical columns:\")\n",
        "print(data.mean(numeric_only=True))\n",
        "\n",
        "print(\"Minimum values of numerical columns:\")\n",
        "print (data.min (numeric_only=True))\n",
        "\n",
        "print(\"\\nMaximum values of numerical columns:\")\n",
        "print(data.max(numeric_only=True))\n",
        "\n",
        "data.to_csv('data.csv', index=False)"
      ]
    },
    {
      "cell_type": "code",
      "source": [],
      "metadata": {
        "id": "cqm4x9GKqPgg"
      },
      "execution_count": null,
      "outputs": []
    }
  ]
}